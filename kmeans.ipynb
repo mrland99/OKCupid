{
 "cells": [
  {
   "cell_type": "code",
   "execution_count": 1,
   "metadata": {},
   "outputs": [],
   "source": [
    "import pandas as pd \n",
    "import numpy as np\n",
    "from sklearn.feature_extraction.text import CountVectorizer\n",
    "from sklearn.feature_extraction.text import TfidfVectorizer\n",
    "from sklearn import preprocessing\n",
    "from sklearn.model_selection import train_test_split\n"
   ]
  },
  {
   "cell_type": "code",
   "execution_count": 2,
   "metadata": {},
   "outputs": [],
   "source": [
    "data = pd.read_csv(\"profiles.csv\")"
   ]
  },
  {
   "cell_type": "code",
   "execution_count": 4,
   "metadata": {},
   "outputs": [],
   "source": [
    "age = data['age']"
   ]
  },
  {
   "cell_type": "code",
   "execution_count": 5,
   "metadata": {},
   "outputs": [],
   "source": [
    "text_data = []\n",
    "for i in range(len(data)):\n",
    "    for j in range(10):\n",
    "        cur_text = data['essay'+str(j)][i]\n",
    "        if (type(cur_text) != str):\n",
    "            cur_text = str(cur_text)\n",
    "        if cur_text is not \"\":\n",
    "            try:\n",
    "                text_data[i] = text_data[i] + (cur_text)\n",
    "            except IndexError:\n",
    "                text_data.append(cur_text)\n",
    "                \n",
    "        else: \n",
    "            continue\n",
    "    "
   ]
  },
  {
   "cell_type": "code",
   "execution_count": 6,
   "metadata": {},
   "outputs": [],
   "source": [
    "text_train, text_test, age_train, age_test = train_test_split(text_data, age, test_size=0.2)"
   ]
  },
  {
   "cell_type": "code",
   "execution_count": 7,
   "metadata": {},
   "outputs": [],
   "source": [
    "tfidf_vectorizer = TfidfVectorizer(max_df=0.95, min_df=2,\n",
    "                                   max_features=1000,\n",
    "                                   stop_words='english')"
   ]
  },
  {
   "cell_type": "code",
   "execution_count": 8,
   "metadata": {},
   "outputs": [],
   "source": [
    "text_train_bag = vectorizer.fit_transform(text_train)"
   ]
  },
  {
   "cell_type": "code",
   "execution_count": 9,
   "metadata": {},
   "outputs": [],
   "source": [
    "vocab = pd.DataFrame(vectorizer.get_feature_names()).to_numpy()"
   ]
  },
  {
   "cell_type": "code",
   "execution_count": 10,
   "metadata": {},
   "outputs": [],
   "source": [
    "from sklearn.decomposition import IncrementalPCA\n",
    "pca = IncrementalPCA(n_components=10, batch_size=500)\n",
    "pca.fit(text_train_bag.toarray())\n",
    "text_train = pca.transform(text_train_bag.toarray())\n"
   ]
  },
  {
   "cell_type": "code",
   "execution_count": 25,
   "metadata": {},
   "outputs": [],
   "source": [
    "from sklearn.cluster import MiniBatchKMeans\n",
    "kmeans = MiniBatchKMeans(n_clusters=10, random_state=0, batch_size=5000, max_iter=10).fit(text_train)"
   ]
  },
  {
   "cell_type": "code",
   "execution_count": 26,
   "metadata": {},
   "outputs": [
    {
     "name": "stdout",
     "output_type": "stream",
     "text": [
      "[6 3 1 ... 3 3 9]\n"
     ]
    }
   ],
   "source": [
    "print(kmeans.labels_)"
   ]
  },
  {
   "cell_type": "code",
   "execution_count": 27,
   "metadata": {},
   "outputs": [],
   "source": [
    "vocab0 = dict() \n",
    "vocab1 = dict()\n",
    "vocab2 = dict()\n",
    "vocab3 = dict()\n",
    "vocab4 = dict()\n",
    "vocab5 = dict()\n",
    "vocab6 = dict()\n",
    "vocab7 = dict()\n",
    "vocab8 = dict()\n",
    "vocab9 = dict()\n",
    "\n",
    "c = 0\n",
    "for i in kmeans.labels_:\n",
    "    if i == 0:\n",
    "        for j in text_train_bag[c].toarray():\n",
    "            for k in j:\n",
    "                if k > 0:\n",
    "                    if c < len(vocab):\n",
    "                        word = str(vocab[c])\n",
    "                        if word in vocab0:    \n",
    "                            vocab0[word] += k\n",
    "                        else:\n",
    "                            vocab0[word] = k\n",
    "    if i == 1:\n",
    "        for j in text_train_bag[c].toarray():\n",
    "            for k in j:\n",
    "                if k > 0:\n",
    "                    if c < len(vocab):\n",
    "                        word = str(vocab[c])\n",
    "                        if word in vocab1:    \n",
    "                            vocab1[word] += k\n",
    "                        else:\n",
    "                            vocab1[word] = k     \n",
    "    if i == 2:\n",
    "        for j in text_train_bag[c].toarray():\n",
    "            for k in j:\n",
    "                if k > 0:\n",
    "                    if c < len(vocab):\n",
    "                        word = str(vocab[c])\n",
    "                        if word in vocab2:    \n",
    "                            vocab2[word] += k\n",
    "                        else:\n",
    "                            vocab2[word] = k\n",
    "                            \n",
    "    if i == 3:\n",
    "        for j in text_train_bag[c].toarray():\n",
    "            for k in j:\n",
    "                if k > 0:\n",
    "                    if c < len(vocab):\n",
    "                        word = str(vocab[c])\n",
    "                        if word in vocab3:    \n",
    "                            vocab3[word] += k\n",
    "                        else:\n",
    "                            vocab3[word] = k\n",
    "    if i == 4:\n",
    "        for j in text_train_bag[c].toarray():\n",
    "            for k in j:\n",
    "                if k > 0:\n",
    "                    if c < len(vocab):\n",
    "                        word = str(vocab[c])\n",
    "                        if word in vocab4:    \n",
    "                            vocab4[word] += k\n",
    "                        else:\n",
    "                            vocab4[word] = k\n",
    "    if i == 5:\n",
    "        for j in text_train_bag[c].toarray():\n",
    "            for k in j:\n",
    "                if k > 0:\n",
    "                    if c < len(vocab):\n",
    "                        word = str(vocab[c])\n",
    "                        if word in vocab5:    \n",
    "                            vocab5[word] += k\n",
    "                        else:\n",
    "                            vocab5[word] = k\n",
    "                            \n",
    "    if i == 6:\n",
    "        for j in text_train_bag[c].toarray():\n",
    "            for k in j:\n",
    "                if k > 0:\n",
    "                    if c < len(vocab):\n",
    "                        word = str(vocab[c])\n",
    "                        if word in vocab6:    \n",
    "                            vocab6[word] += k\n",
    "                        else:\n",
    "                            vocab6[word] = k\n",
    "                            \n",
    "                            \n",
    "    if i == 7:\n",
    "        for j in text_train_bag[c].toarray():\n",
    "            for k in j:\n",
    "                if k > 0:\n",
    "                    if c < len(vocab):\n",
    "                        word = str(vocab[c])\n",
    "                        if word in vocab7:    \n",
    "                            vocab7[word] += k\n",
    "                        else:\n",
    "                            vocab7[word] = k\n",
    "    \n",
    "    if i == 8:\n",
    "        for j in text_train_bag[c].toarray():\n",
    "            for k in j:\n",
    "                if k > 0:\n",
    "                    if c < len(vocab):\n",
    "                        word = str(vocab[c])\n",
    "                        if word in vocab8:    \n",
    "                            vocab8[word] += k\n",
    "                        else:\n",
    "                            vocab8[word] = k\n",
    "    if i == 9:\n",
    "        for j in text_train_bag[c].toarray():\n",
    "            for k in j:\n",
    "                if k > 0:\n",
    "                    if c < len(vocab):\n",
    "                        word = str(vocab[c])\n",
    "                        if word in vocab9:    \n",
    "                            vocab9[word] += k\n",
    "                        else:\n",
    "                            vocab9[word] = k\n",
    "                            \n",
    "    c += 1\n",
    "            \n",
    "\n",
    "#print(vocab0)\n",
    "\n",
    "        \n",
    "    "
   ]
  },
  {
   "cell_type": "code",
   "execution_count": 28,
   "metadata": {},
   "outputs": [],
   "source": [
    "from collections import Counter\n",
    "k0 = Counter(vocab0) \n",
    "k1 = Counter(vocab1)\n",
    "k2 = Counter(vocab2)\n",
    "k3 = Counter(vocab3)\n",
    "k4 = Counter(vocab4)\n",
    "k5 = Counter(vocab5)\n",
    "k6 = Counter(vocab6)\n",
    "k7 = Counter(vocab7)\n",
    "k8 = Counter(vocab8)\n",
    "k9 = Counter(vocab9)\n"
   ]
  },
  {
   "cell_type": "code",
   "execution_count": 29,
   "metadata": {},
   "outputs": [
    {
     "name": "stdout",
     "output_type": "stream",
     "text": [
      "K0: \n",
      "[(\"['lacto']\", 25.178582157625954), (\"['pockets']\", 24.530989306321864), (\"['addicts']\", 24.223545204222262), (\"['junction']\", 23.501073609441168), (\"['kinks']\", 23.40685931915281)]\n",
      "K1: \n",
      "[(\"['007']\", 1.0), (\"['06']\", 1.0), (\"['14']\", 1.0), (\"['17']\", 1.0), (\"['18th']\", 1.0)]\n",
      "K2: \n",
      "[(\"['smilemusic']\", 21.18213681425609), (\"['witty']\", 21.01034018206295), (\"['roots']\", 20.770100074838396), (\"['grrrl']\", 20.446232742227522), (\"['magic']\", 20.222330567051202)]\n",
      "K3\n",
      "[(\"['immune']\", 19.20713879406182), (\"['frank']\", 19.05106095916336), (\"['comes']\", 18.556223556039324), (\"['paleontology']\", 17.871764187906503), (\"['centric']\", 17.568677696187148)]\n",
      "K4:\n",
      "[(\"['name']\", 18.942460361894536), (\"['surgery']\", 16.839028334444656), (\"['discussed']\", 16.81370693484653), (\"['persistent']\", 16.813651889386044), (\"['yorke']\", 16.612371509106836)]\n",
      "K5:\n",
      "[(\"['lolnan']\", 23.672246359349497), (\"['kayaks']\", 23.63474228485824), (\"['eerily']\", 23.34102758485771), (\"['beekeeper']\", 22.985979582492565), (\"['promotion']\", 22.931889298126446)]\n",
      "K6:\n",
      "[(\"['mingling']\", 24.143042184009403), (\"['nanlooking']\", 23.548097597580167), (\"['soprano']\", 23.527371543354633), (\"['summarizes']\", 22.875940692647), (\"['evocative']\", 21.295651596673302)]\n",
      "K7\n",
      "[(\"['doings']\", 17.074781028481215), (\"['alli']\", 16.254997769254203), (\"['stilettos']\", 16.239519696074115), (\"['liberty']\", 15.734315405662155), (\"['pick']\", 15.665985905255033)]\n",
      "K*\n",
      "[(\"['decompressing']\", 23.06110134563161), (\"['poets']\", 19.531225501646187), (\"['advancing']\", 18.704070237743686), (\"['godfrey']\", 18.361274699183834), (\"['csueb']\", 18.314644703332117)]\n",
      "K9\n",
      "[(\"['htm']\", 14.796798222947368), (\"['guidelines']\", 14.740154406474943), (\"['exclusion']\", 14.208676941194373), (\"['comedies']\", 13.917280183639614), (\"['quantities']\", 13.905295155500006)]\n"
     ]
    }
   ],
   "source": [
    "print(\"K0: \")\n",
    "print(k0.most_common(5))\n",
    "print(\"K1: \")\n",
    "print(k1.most_common(5))\n",
    "print(\"K2: \")\n",
    "print(k2.most_common(5))\n",
    "print(\"K3\")\n",
    "print(k3.most_common(5))\n",
    "print(\"K4:\")\n",
    "print(k4.most_common(5))\n",
    "print(\"K5:\")\n",
    "print(k5.most_common(5))\n",
    "print(\"K6:\")\n",
    "print(k6.most_common(5))\n",
    "print(\"K7\")\n",
    "print(k7.most_common(5))\n",
    "print(\"K*\")\n",
    "print(k8.most_common(5))\n",
    "print(\"K9\")\n",
    "print(k9.most_common(5))\n"
   ]
  },
  {
   "cell_type": "code",
   "execution_count": 30,
   "metadata": {},
   "outputs": [
    {
     "data": {
      "text/plain": [
       "1457.107451918733"
      ]
     },
     "execution_count": 30,
     "metadata": {},
     "output_type": "execute_result"
    }
   ],
   "source": [
    "kmeans.inertia_"
   ]
  },
  {
   "cell_type": "code",
   "execution_count": 19,
   "metadata": {},
   "outputs": [],
   "source": [
    "text_test_bag = vectorizer.transform(text_test)\n",
    "text_test = pca.transform(text_test_bag.toarray())"
   ]
  },
  {
   "cell_type": "code",
   "execution_count": 44,
   "metadata": {},
   "outputs": [],
   "source": [
    "kmeans2 = kmeans.predict(text_test)\n"
   ]
  },
  {
   "cell_type": "code",
   "execution_count": 46,
   "metadata": {},
   "outputs": [],
   "source": [
    "vocab0 = dict() \n",
    "vocab1 = dict()\n",
    "vocab2 = dict()\n",
    "vocab3 = dict()\n",
    "vocab4 = dict()\n",
    "vocab5 = dict()\n",
    "vocab6 = dict()\n",
    "vocab7 = dict()\n",
    "vocab8 = dict()\n",
    "vocab9 = dict()\n",
    "\n",
    "c = 0\n",
    "for i in kmeans2:\n",
    "    if i == 0:\n",
    "        for j in text_test_bag[c].toarray():\n",
    "            for k in j:\n",
    "                if k > 0:\n",
    "                    if c < 29447:\n",
    "                        word = str(vocab[c])\n",
    "                        if word in vocab0:    \n",
    "                            vocab0[word] += k\n",
    "                        else:\n",
    "                            vocab0[word] = k\n",
    "    if i == 1:\n",
    "        for j in text_test_bag[c].toarray():\n",
    "            for k in j:\n",
    "                if k > 0:\n",
    "                    if c < 29447:\n",
    "                        word = str(vocab[c])\n",
    "                        if word in vocab1:    \n",
    "                            vocab1[word] += k\n",
    "                        else:\n",
    "                            vocab1[word] = k     \n",
    "    if i == 2:\n",
    "        for j in text_test_bag[c].toarray():\n",
    "            for k in j:\n",
    "                if k > 0:\n",
    "                    if c < 29447:\n",
    "                        word = str(vocab[c])\n",
    "                        if word in vocab2:    \n",
    "                            vocab2[word] += k\n",
    "                        else:\n",
    "                            vocab2[word] = k\n",
    "                            \n",
    "    if i == 3:\n",
    "        for j in text_test_bag[c].toarray():\n",
    "            for k in j:\n",
    "                if k > 0:\n",
    "                    if c < 29447:\n",
    "                        word = str(vocab[c])\n",
    "                        if word in vocab3:    \n",
    "                            vocab3[word] += k\n",
    "                        else:\n",
    "                            vocab3[word] = k\n",
    "    if i == 4:\n",
    "        for j in text_test_bag[c].toarray():\n",
    "            for k in j:\n",
    "                if k > 0:\n",
    "                    if c < 29447:\n",
    "                        word = str(vocab[c])\n",
    "                        if word in vocab4:    \n",
    "                            vocab4[word] += k\n",
    "                        else:\n",
    "                            vocab4[word] = k\n",
    "    if i == 5:\n",
    "        for j in text_test_bag[c].toarray():\n",
    "            for k in j:\n",
    "                if k > 0:\n",
    "                    if c < 29447:\n",
    "                        word = str(vocab[c])\n",
    "                        if word in vocab5:    \n",
    "                            vocab5[word] += k\n",
    "                        else:\n",
    "                            vocab5[word] = k\n",
    "                            \n",
    "    if i == 6:\n",
    "        for j in text_test_bag[c].toarray():\n",
    "            for k in j:\n",
    "                if k > 0:\n",
    "                    if c < 29447:\n",
    "                        word = str(vocab[c])\n",
    "                        if word in vocab6:    \n",
    "                            vocab6[word] += k\n",
    "                        else:\n",
    "                            vocab6[word] = k\n",
    "                            \n",
    "                            \n",
    "    if i == 7:\n",
    "        for j in text_test_bag[c].toarray():\n",
    "            for k in j:\n",
    "                if k > 0:\n",
    "                    if c < 29447:\n",
    "                        word = str(vocab[c])\n",
    "                        if word in vocab7:    \n",
    "                            vocab7[word] += k\n",
    "                        else:\n",
    "                            vocab7[word] = k\n",
    "    \n",
    "    if i == 8:\n",
    "        for j in text_test_bag[c].toarray():\n",
    "            for k in j:\n",
    "                if k > 0:\n",
    "                    if c < 29447:\n",
    "                        word = str(vocab[c])\n",
    "                        if word in vocab8:    \n",
    "                            vocab8[word] += k\n",
    "                        else:\n",
    "                            vocab8[word] = k\n",
    "    if i == 9:\n",
    "        for j in text_test_bag[c].toarray():\n",
    "            for k in j:\n",
    "                if k > 0:\n",
    "                    if c < 29447:\n",
    "                        word = str(vocab[c])\n",
    "                        if word in vocab9:    \n",
    "                            vocab9[word] += k\n",
    "                        else:\n",
    "                            vocab9[word] = k\n",
    "                            \n",
    "    c += 1"
   ]
  },
  {
   "cell_type": "code",
   "execution_count": 47,
   "metadata": {},
   "outputs": [],
   "source": [
    "k0 = Counter(vocab0) \n",
    "k1 = Counter(vocab1)\n",
    "k2 = Counter(vocab2)\n",
    "k3 = Counter(vocab3)\n",
    "k4 = Counter(vocab4)\n",
    "k5 = Counter(vocab5)\n",
    "k6 = Counter(vocab6)\n",
    "k7 = Counter(vocab7)\n",
    "k8 = Counter(vocab8)\n",
    "k9 = Counter(vocab9)"
   ]
  },
  {
   "cell_type": "code",
   "execution_count": 48,
   "metadata": {},
   "outputs": [
    {
     "name": "stdout",
     "output_type": "stream",
     "text": [
      "K0: \n",
      "[(\"['americorps']\", 22.460266654325995), (\"['goldfinger']\", 22.240600006368922), (\"['eyehategod']\", 21.791468127169896), (\"['cecil']\", 21.62553630985414), (\"['hangups']\", 21.409548985907456)]\n",
      "K1: \n",
      "[(\"['007']\", 1.0), (\"['07']\", 1.0), (\"['0abeatles']\", 1.0), (\"['0afiction']\", 1.0), (\"['0amusic']\", 1.0)]\n",
      "K2: \n",
      "[(\"['destination']\", 21.755659964258083), (\"['flux']\", 21.55844619609974), (\"['happen']\", 20.74031035421539), (\"['bungee']\", 19.83415167406186), (\"['fleck']\", 19.77285102785811)]\n",
      "K3\n",
      "[(\"['expressing']\", 19.872828561526603), (\"['es']\", 18.840368301996865), (\"['cobb']\", 17.672392263070996), (\"['adore']\", 17.011092724465417), (\"['1930s']\", 16.683143771843593)]\n",
      "K4:\n",
      "[(\"['borat']\", 16.831469515709347), (\"['fuel']\", 16.68087483319738), (\"['atm']\", 16.126115388139816), (\"['califone']\", 15.9412554288424), (\"['european']\", 15.831755013326024)]\n",
      "K5:\n",
      "[(\"['dolores']\", 26.584800663592365), (\"['derby']\", 24.03390685904692), (\"['ballroom']\", 23.18651211862544), (\"['buzz']\", 22.557929263270026), (\"['gore']\", 22.501158279862477)]\n",
      "K6:\n",
      "[(\"['eloquent']\", 28.933694148484566), (\"['harper']\", 21.18976488738378), (\"['eliza']\", 20.671217436971947), (\"['external']\", 20.3766680255297), (\"['cats']\", 19.94781204858059)]\n",
      "K7\n",
      "[(\"['dinosaur']\", 17.176930193161795), (\"['18']\", 15.524582860371638), (\"['apc']\", 15.307629171976126), (\"['basil']\", 15.044659420544122), (\"['craze']\", 14.919670135586127)]\n",
      "K*\n",
      "[(\"['bud']\", 20.708872139965884), (\"['edit']\", 17.78595620457034), (\"['basis']\", 17.374128291857364), (\"['brewster']\", 17.187652846442475), (\"['detect']\", 17.117278533482256)]\n",
      "K9\n",
      "[(\"['dangerous']\", 13.00146002158046), (\"['graduating']\", 12.92589223596937), (\"['disappearing']\", 12.600763314952914), (\"['abortion']\", 12.578277901227224), (\"['chromosome']\", 12.255314317499614)]\n"
     ]
    }
   ],
   "source": [
    "print(\"K0: \")\n",
    "print(k0.most_common(5))\n",
    "print(\"K1: \")\n",
    "print(k1.most_common(5))\n",
    "print(\"K2: \")\n",
    "print(k2.most_common(5))\n",
    "print(\"K3\")\n",
    "print(k3.most_common(5))\n",
    "print(\"K4:\")\n",
    "print(k4.most_common(5))\n",
    "print(\"K5:\")\n",
    "print(k5.most_common(5))\n",
    "print(\"K6:\")\n",
    "print(k6.most_common(5))\n",
    "print(\"K7\")\n",
    "print(k7.most_common(5))\n",
    "print(\"K*\")\n",
    "print(k8.most_common(5))\n",
    "print(\"K9\")\n",
    "print(k9.most_common(5))"
   ]
  },
  {
   "cell_type": "code",
   "execution_count": 32,
   "metadata": {},
   "outputs": [],
   "source": [
    "age_train = age_train.to_numpy()"
   ]
  },
  {
   "cell_type": "code",
   "execution_count": 43,
   "metadata": {},
   "outputs": [
    {
     "data": {
      "text/plain": [
       "(array([0.03026881, 0.0370454 , 0.05263158, 0.05511633, 0.07025073,\n",
       "        0.06957307, 0.06528123, 0.065733  , 0.06482946, 0.05579399,\n",
       "        0.04743619, 0.0472103 , 0.04540321, 0.03727129, 0.0286876 ,\n",
       "        0.02959115, 0.02484753, 0.01829681, 0.01829681, 0.01987802,\n",
       "        0.01581206, 0.01377908, 0.01807093, 0.01332731, 0.00971312,\n",
       "        0.0067766 , 0.01287554, 0.01061667, 0.01558618]),\n",
       " array([20, 21, 22, 23, 24, 25, 26, 27, 28, 29, 30, 31, 32, 33, 34, 35, 36,\n",
       "        37, 38, 39, 40, 41, 42, 43, 44, 45, 46, 47, 48, 49]),\n",
       " <a list of 29 Patch objects>)"
      ]
     },
     "execution_count": 43,
     "metadata": {},
     "output_type": "execute_result"
    },
    {
     "data": {
      "image/png": "[encoded data removed]",
      "text/plain": [
       "<Figure size 432x288 with 1 Axes>"
      ]
     },
     "metadata": {
      "needs_background": "light"
     },
     "output_type": "display_data"
    }
   ],
   "source": [
    "# See if age is a factor!\n",
    "age_c0 = dict()\n",
    "age_array = []\n",
    "c = 0\n",
    "for i in kmeans.labels_:\n",
    "    if i == 9:\n",
    "        cur_age = age_train[c]\n",
    "        age_array.append(cur_age)\n",
    "        if cur_age in age_c0: \n",
    "            age_c0[cur_age] += 1\n",
    "        else: \n",
    "            age_c0[cur_age] = 1\n",
    "    c += 1\n",
    "\n",
    "ages = age_c0.keys()\n",
    "age_amount = age_c0.values()\n",
    "import matplotlib.pyplot as plt\n",
    "bins = np.arange(20,50,1)\n",
    "plt.hist(age_array,bins, density=True)"
   ]
  },
  {
   "cell_type": "code",
   "execution_count": 20,
   "metadata": {},
   "outputs": [],
   "source": [
    "# implement PCA and do \n",
    "from numpy.testing import assert_array_almost_equal\n",
    "X_projected = pca.inverse_transform(text_test)\n",
    "\n"
   ]
  },
  {
   "cell_type": "code",
   "execution_count": 21,
   "metadata": {},
   "outputs": [
    {
     "data": {
      "text/plain": [
       "numpy.matrix"
      ]
     },
     "execution_count": 21,
     "metadata": {},
     "output_type": "execute_result"
    }
   ],
   "source": [
    "matrix1 = text_test_bag - X_projected\n",
    "type(matrix1)\n"
   ]
  },
  {
   "cell_type": "code",
   "execution_count": 22,
   "metadata": {},
   "outputs": [],
   "source": [
    "matrix1 = np.square(matrix1)"
   ]
  },
  {
   "cell_type": "code",
   "execution_count": 23,
   "metadata": {},
   "outputs": [],
   "source": [
    "dist_array = matrix1.sum(axis=1)"
   ]
  },
  {
   "cell_type": "code",
   "execution_count": 24,
   "metadata": {},
   "outputs": [
    {
     "name": "stdout",
     "output_type": "stream",
     "text": [
      "0.7038935725372736\n"
     ]
    }
   ],
   "source": [
    "print(dist_array.mean())"
   ]
  },
  {
   "cell_type": "code",
   "execution_count": null,
   "metadata": {},
   "outputs": [],
   "source": [
    "# Implement LDA and look up how to measure it, use the score function (log likelihood)"
   ]
  }
 ],
 "metadata": {
  "kernelspec": {
   "display_name": "Python 3",
   "language": "python",
   "name": "python3"
  },
  "language_info": {
   "codemirror_mode": {
    "name": "ipython",
    "version": 3
   },
   "file_extension": ".py",
   "mimetype": "text/x-python",
   "name": "python",
   "nbconvert_exporter": "python",
   "pygments_lexer": "ipython3",
   "version": "3.7.2"
  }
 },
 "nbformat": 4,
 "nbformat_minor": 2
}
